{
 "cells": [
  {
   "cell_type": "markdown",
   "metadata": {
    "vscode": {
     "languageId": "plaintext"
    }
   },
   "source": [
    "# Celltype Classification with Transcriptformer\n",
    "\n",
    "This notebooks showcase how the Transcriptformer embeddings can be used to train a classifier for celltype classification."
   ]
  },
  {
   "cell_type": "code",
   "execution_count": 1,
   "metadata": {},
   "outputs": [],
   "source": [
    "%load_ext autoreload\n",
    "%autoreload 2\n",
    "\n",
    "import json\n",
    "import logging\n",
    "import os\n",
    "\n",
    "import hydra\n",
    "from omegaconf import DictConfig, OmegaConf\n",
    "\n",
    "\n",
    "from transcriptformer.model.inference import run_inference\n",
    "from transcriptformer.datasets import tabula_sapiens\n",
    "import yaml"
   ]
  },
  {
   "cell_type": "code",
   "execution_count": 2,
   "metadata": {},
   "outputs": [],
   "source": [
    "# !python ./../download_artifacts.py tf-sapiens"
   ]
  },
  {
   "cell_type": "code",
   "execution_count": 3,
   "metadata": {},
   "outputs": [],
   "source": [
    "adata = tabula_sapiens(tissue=\"ear\", version=\"v2\")\n",
    "cfg = OmegaConf.load(\"./../conf/inference_config.yaml\")\n",
    "logging.debug(OmegaConf.to_yaml(cfg))\n",
    "\n",
    "cfg.model.checkpoint_path = \"./checkpoints/tf_sapiens\"\n",
    "\n",
    "config_path = os.path.join(cfg.model.checkpoint_path, \"config.json\")\n",
    "with open(config_path) as f:\n",
    "    config_dict = json.load(f)\n",
    "mlflow_cfg = OmegaConf.create(config_dict)\n",
    "\n",
    "# Merge the MLflow config with the main config\n",
    "cfg = OmegaConf.merge(mlflow_cfg, cfg)\n",
    "\n",
    "# Set the checkpoint paths based on the unified checkpoint_path\n",
    "cfg.model.inference_config.load_checkpoint = os.path.join(cfg.model.checkpoint_path, \"model_weights.pt\")\n",
    "cfg.model.data_config.aux_vocab_path = os.path.join(cfg.model.checkpoint_path, \"vocabs\")\n",
    "cfg.model.data_config.esm2_mappings_path = os.path.join(cfg.model.checkpoint_path, \"vocabs\")\n"
   ]
  },
  {
   "cell_type": "code",
   "execution_count": 4,
   "metadata": {},
   "outputs": [],
   "source": [
    "adata.var[\"ensembl_id\"] = adata.var_names.str.split('.').str[0]\n",
    "adata.X = adata.layers[\"decontXcounts\"]"
   ]
  },
  {
   "cell_type": "code",
   "execution_count": 5,
   "metadata": {},
   "outputs": [
    {
     "name": "stderr",
     "output_type": "stream",
     "text": [
      "Using 16bit Automatic Mixed Precision (AMP)\n",
      "You are using the plain ModelCheckpoint callback. Consider using LitModelCheckpoint which with seamless uploading to Model registry.\n",
      "GPU available: True (cuda), used: True\n",
      "TPU available: False, using: 0 TPU cores\n",
      "HPU available: False, using: 0 HPUs\n",
      "LOCAL_RANK: 0 - CUDA_VISIBLE_DEVICES: [0]\n",
      "/work/venv/tf311/lib/python3.11/site-packages/pytorch_lightning/trainer/connectors/data_connector.py:425: The 'predict_dataloader' does not have many workers which may be a bottleneck. Consider increasing the value of the `num_workers` argument` to `num_workers=7` in the `DataLoader` to improve performance.\n"
     ]
    },
    {
     "name": "stdout",
     "output_type": "stream",
     "text": [
      "Predicting DataLoader 0: 100%|██████████| 382/382 [00:25<00:00, 15.13it/s]\n"
     ]
    },
    {
     "name": "stderr",
     "output_type": "stream",
     "text": [
      "/work/venv/tf311/lib/python3.11/site-packages/anndata/_core/aligned_df.py:68: ImplicitModificationWarning: Transforming to str index.\n",
      "  warnings.warn(\"Transforming to str index.\", ImplicitModificationWarning)\n"
     ]
    }
   ],
   "source": [
    "# Set logging level to ERROR to reduce verbosity\n",
    "logging.getLogger().setLevel(logging.ERROR)\n",
    "\n",
    "adata_output = run_inference(cfg, data_files=[adata])"
   ]
  },
  {
   "cell_type": "code",
   "execution_count": 7,
   "metadata": {},
   "outputs": [],
   "source": [
    "import pandas as pd\n",
    "import numpy as np\n",
    "from sklearn.model_selection import StratifiedKFold, cross_validate\n",
    "from sklearn.pipeline import Pipeline\n",
    "from sklearn.preprocessing import StandardScaler\n",
    "from sklearn.linear_model import LogisticRegression\n",
    "from sklearn.metrics import (\n",
    "    accuracy_score,\n",
    "    f1_score,\n",
    "    make_scorer,\n",
    "    precision_score,\n",
    "    recall_score,\n",
    ")\n",
    "pipeline = Pipeline(\n",
    "                [\n",
    "                    (\"scaler\", StandardScaler()),\n",
    "                    (\"lr\", LogisticRegression()),\n",
    "                ]\n",
    "            )\n",
    "average_type = \"macro\"\n",
    "SEED = 42\n",
    "scorers = {\n",
    "            \"accuracy\": make_scorer(accuracy_score),\n",
    "            \"f1\": make_scorer(f1_score, average=average_type),\n",
    "            \"precision\": make_scorer(precision_score, average=average_type),\n",
    "            \"recall\": make_scorer(recall_score, average=average_type),\n",
    "        }\n",
    "\n",
    "skf = StratifiedKFold(n_splits=3, shuffle=True, random_state=SEED)"
   ]
  },
  {
   "cell_type": "code",
   "execution_count": 12,
   "metadata": {},
   "outputs": [],
   "source": [
    "embeddings, labels = adata_output.obsm[\"embeddings\"], adata_output.obs[\"cell_type\"].values"
   ]
  },
  {
   "cell_type": "code",
   "execution_count": 13,
   "metadata": {},
   "outputs": [
    {
     "name": "stderr",
     "output_type": "stream",
     "text": [
      "/work/venv/tf311/lib/python3.11/site-packages/sklearn/model_selection/_split.py:776: UserWarning: The least populated class in y has only 1 members, which is less than n_splits=3.\n",
      "  warnings.warn(\n",
      "/work/venv/tf311/lib/python3.11/site-packages/sklearn/metrics/_classification.py:1531: UndefinedMetricWarning: Precision is ill-defined and being set to 0.0 in labels with no predicted samples. Use `zero_division` parameter to control this behavior.\n",
      "  _warn_prf(average, modifier, f\"{metric.capitalize()} is\", len(result))\n",
      "/work/venv/tf311/lib/python3.11/site-packages/sklearn/metrics/_classification.py:1531: UndefinedMetricWarning: Precision is ill-defined and being set to 0.0 in labels with no predicted samples. Use `zero_division` parameter to control this behavior.\n",
      "  _warn_prf(average, modifier, f\"{metric.capitalize()} is\", len(result))\n"
     ]
    }
   ],
   "source": [
    "labels = pd.Categorical(labels.astype(str))\n",
    "cv_results = cross_validate(\n",
    "    pipeline,\n",
    "    embeddings,\n",
    "    labels.codes,\n",
    "    cv=skf,\n",
    "    scoring=scorers,\n",
    "    return_train_score=False,\n",
    ")"
   ]
  },
  {
   "cell_type": "code",
   "execution_count": 14,
   "metadata": {},
   "outputs": [
    {
     "data": {
      "text/plain": [
       "{'fit_time': array([5.32113767, 3.82658339, 3.82428098]),\n",
       " 'score_time': array([0.04094672, 0.03930044, 0.02056813]),\n",
       " 'test_accuracy': array([0.96859666, 0.98035363, 0.97347741]),\n",
       " 'test_f1': array([0.76635337, 0.97750495, 0.75698548]),\n",
       " 'test_precision': array([0.77295502, 0.9744704 , 0.7483731 ]),\n",
       " 'test_recall': array([0.76083898, 0.98095984, 0.77046934])}"
      ]
     },
     "execution_count": 14,
     "metadata": {},
     "output_type": "execute_result"
    }
   ],
   "source": [
    "cv_results"
   ]
  },
  {
   "cell_type": "code",
   "execution_count": null,
   "metadata": {},
   "outputs": [],
   "source": [
    "adata_map = tabula_sapiens(tissue=\"ear\", version=\"v1\")\n",
    "adata_map.var[\"ensembl_id\"] = adata_map.var_names.str.split('.').str[0]\n",
    "adata_map.X = adata_map.layers[\"decontXcounts\"]"
   ]
  }
 ],
 "metadata": {
  "kernelspec": {
   "display_name": "tf311",
   "language": "python",
   "name": "python3"
  },
  "language_info": {
   "codemirror_mode": {
    "name": "ipython",
    "version": 3
   },
   "file_extension": ".py",
   "mimetype": "text/x-python",
   "name": "python",
   "nbconvert_exporter": "python",
   "pygments_lexer": "ipython3",
   "version": "3.11.11"
  }
 },
 "nbformat": 4,
 "nbformat_minor": 2
}
